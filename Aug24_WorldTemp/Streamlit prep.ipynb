{
 "cells": [
  {
   "cell_type": "code",
   "execution_count": null,
   "id": "d18b5ae8-f516-41ff-b0aa-fd1b9739d94b",
   "metadata": {},
   "outputs": [],
   "source": [
    "#add all imports and lib here\n",
    "import streamlit as st\n",
    "import pandas as pd\n",
    "import numpy as np\n",
    "import pickle\n",
    "import gzip\n",
    "import matplotlib.pyplot as plt\n",
    "import plotly.express as px\n",
    "import plotly.graph_objects as go\n",
    "from sklearn.metrics import r2_score, mean_absolute_error, mean_squared_error\n",
    "from sklearn.ensemble import GradientBoostingRegressor\n",
    "import seaborn as sns\n",
    "from scipy import stats\n",
    "import io\n",
    "import math\n",
    "from scipy.stats import linregress\n"
   ]
  },
  {
   "cell_type": "code",
   "execution_count": null,
   "id": "2788ba7d-b307-4fd6-86dc-897ee1d929cb",
   "metadata": {},
   "outputs": [],
   "source": [
    "st.markdown(\n",
    "    \"\"\"\n",
    "    <style>\n",
    "    .css-1d391kg {\n",
    "        margin-top: -30px;\n",
    "    }\n",
    "    </style>\n",
    "    \"\"\",\n",
    "    unsafe_allow_html=True,\n",
    ")\n",
    "\n",
    "st.sidebar.title(\"Main Menu\")\n",
    "\n",
    "# Sidebar\n",
    "pages = [\n",
    "    \"Home\",\n",
    "    \"Introduction\",\n",
    "    \"Exploration\",\n",
    "    \"Data Visualisation\",\n",
    "    \"dummy1\",\n",
    "    \"dummy2\",\n",
    "    \"dummy3\",\n",
    "    \"dummy4\",\n",
    "    \"dummy5\",\n",
    "    \"dummy6\",\n",
    "    \"Prediction\",\n",
    "    \"Conclusion\"\n",
    "]\n",
    "page = st.sidebar.radio(\"\", pages)  \n",
    "\n",
    "st.sidebar.markdown(\n",
    "    \"\"\"\n",
    "    - **Course**: Data Analyst Bootcamp\n",
    "    - **Instructor**: Tarik Anouar\n",
    "    - **Date**: Augst 2024\n",
    "    - **Team Members**:\n",
    "        - Carmine Saffioti\n",
    "        - Michaela Lange\n",
    "        - Khaldoun Zaal\n",
    "    \"\"\"\n",
    ")\n"
   ]
  },
  {
   "cell_type": "code",
   "execution_count": null,
   "id": "d901e540-ff55-4174-a6f0-64b0547ef073",
   "metadata": {},
   "outputs": [],
   "source": [
    "if page == 'Home':\n",
    "  \n",
    "# Streamlit app content\n",
    "  st.title(\"World Temperature Project\")\n",
    "\n",
    "  # Add the gif to page\n",
    "  st.image(\"https://www.esa.int/var/esa/storage/images/esa_multimedia/images/2019/12/sea-surface_temperature_change/21499291-3-eng-GB/Sea-surface_temperature_change_pillars.gif\",  use_column_width=True)\n",
    "\n",
    "\n",
    "# Inject custom CSS\n",
    "  st.markdown(\n",
    "    \"\"\"\n",
    "    <style>\n",
    "    .reportview-container {\n",
    "        background: black;\n",
    "        color: white;\n",
    "    }\n",
    "    .sidebar .sidebar-content {\n",
    "        background: black;\n",
    "    }\n",
    "    </style>\n",
    "    \"\"\",\n",
    "    unsafe_allow_html=True\n",
    " )\n",
    "   "
   ]
  },
  {
   "cell_type": "code",
   "execution_count": null,
   "id": "69ee692e-7492-48b5-bc4b-161f134757e9",
   "metadata": {},
   "outputs": [],
   "source": [
    "if page == 'Introduction':\n",
    "    st.write(\"## World Temperature Analysis\")\n",
    "    \n",
    "    st.markdown(\"\"\"\n",
    "    <div style=\"text-align: justify;\">\n",
    "    <p><strong>Understanding what impacts our planet's temperature changes over time is vital for understanding the dynamics of climate change.</strong></p>\n",
    "    </div>\n",
    "    \"\"\", unsafe_allow_html=True)\n",
    "\n",
    "    \n",
    "    st.markdown(\"\"\"\n",
    "    <div style=\"text-align: justify;\">\n",
    "    <p>Climate change stands as one of the most urgent challenges of our era, marked by significant shifts in weather patterns and rising global temperatures.\n",
    "    A key aspect of grasping and addressing its effects is the analysis of surface temperature anomalies, which represent the difference between actual surface temperatures and long-term averages.\n",
    "    Examining these anomalies helps uncover the driving forces behind climate change, including greenhouse gas emissions, population expansion, and economic growth.\n",
    "    This study applies machine learning techniques to model and forecast surface temperature anomalies, leveraging socioeconomic and environmental factors.</p>\n",
    "    </div>\n",
    "    \"\"\", unsafe_allow_html=True)\n",
    "\n",
    "    \n",
    "    st.markdown(\"\"\"\n",
    "    <div style=\"text-align: justify; margin-top: 20px;\">\n",
    "    <p><strong>Objective:</strong></p>\n",
    "    <p>The main goal of this project was to build a predictive model for surface temperature anomalies using a dataset that incorporates variables like GDP, CO2 emissions, population, and other relevant factors.</p>\n",
    "    <p>The project involved identifying and proactively processing data structures to ensure data quality, visualizing the data to identify trends and relationships,\n",
    "    and using machine learning methods to model the relationship between CO2 emissions and abnormal temperatures.</p>\n",
    "    </div>\n",
    "    \"\"\", unsafe_allow_html=True)\n"
   ]
  },
  {
   "cell_type": "code",
   "execution_count": null,
   "id": "1c529850-0db3-48c3-a974-cf71ac36e6df",
   "metadata": {},
   "outputs": [],
   "source": [
    "if page == 'Exploration':"
   ]
  },
  {
   "cell_type": "code",
   "execution_count": null,
   "id": "0c61f0ce-2371-4c15-bc9d-8a003864b4ef",
   "metadata": {},
   "outputs": [],
   "source": [
    "if page == 'Data Visualisation':"
   ]
  },
  {
   "cell_type": "code",
   "execution_count": null,
   "id": "3aee064f-e4cb-4ae8-a44d-75d08517319c",
   "metadata": {},
   "outputs": [],
   "source": [
    "if page == 'dummy1':"
   ]
  },
  {
   "cell_type": "code",
   "execution_count": null,
   "id": "0cef61dd-6fc5-41fc-a8fd-9f5da536d649",
   "metadata": {},
   "outputs": [],
   "source": [
    "if page == 'dummy2':"
   ]
  },
  {
   "cell_type": "code",
   "execution_count": null,
   "id": "7e4b5a5d-8604-47de-b923-09a48fb39c46",
   "metadata": {},
   "outputs": [],
   "source": [
    "if page == 'dummy3':"
   ]
  },
  {
   "cell_type": "code",
   "execution_count": null,
   "id": "c06087c1-23f9-4f32-9a0a-cf7eefcdffe0",
   "metadata": {},
   "outputs": [],
   "source": [
    "if page == 'dummy4':"
   ]
  },
  {
   "cell_type": "code",
   "execution_count": null,
   "id": "8659a998-a107-458d-82f7-383811e1bb08",
   "metadata": {},
   "outputs": [],
   "source": [
    "if page == 'dummy5':"
   ]
  },
  {
   "cell_type": "code",
   "execution_count": null,
   "id": "fc4361e6-d044-4f73-938e-204eea97a4eb",
   "metadata": {},
   "outputs": [],
   "source": [
    "if page == 'dummy6':"
   ]
  },
  {
   "cell_type": "code",
   "execution_count": null,
   "id": "b2120abc-c212-40e7-9e36-8268f22f799e",
   "metadata": {},
   "outputs": [],
   "source": [
    "if page == 'Prediction':"
   ]
  },
  {
   "cell_type": "code",
   "execution_count": null,
   "id": "9e4f4075-02dd-49c6-9724-9dda5ca26491",
   "metadata": {},
   "outputs": [],
   "source": [
    "if page == 'Conclusion':"
   ]
  },
  {
   "cell_type": "code",
   "execution_count": null,
   "id": "da447b37-9a03-4190-ba3b-10025214f2b6",
   "metadata": {},
   "outputs": [],
   "source": []
  }
 ],
 "metadata": {
  "kernelspec": {
   "display_name": "Python 3 (ipykernel)",
   "language": "python",
   "name": "python3"
  },
  "language_info": {
   "codemirror_mode": {
    "name": "ipython",
    "version": 3
   },
   "file_extension": ".py",
   "mimetype": "text/x-python",
   "name": "python",
   "nbconvert_exporter": "python",
   "pygments_lexer": "ipython3",
   "version": "3.12.4"
  }
 },
 "nbformat": 4,
 "nbformat_minor": 5
}
