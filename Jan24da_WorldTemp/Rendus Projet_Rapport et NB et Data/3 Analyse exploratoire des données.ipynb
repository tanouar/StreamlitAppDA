{
 "cells": [
  {
   "cell_type": "markdown",
   "metadata": {
    "id": "BnEU5lglTtzi"
   },
   "source": [
    "# Projet 'Température Terrestre'\n"
   ]
  },
  {
   "cell_type": "markdown",
   "metadata": {
    "id": "AvvqKbLVe7qw"
   },
   "source": [
    "\n",
    "## 3. **Analyse exploratoire des données**\n",
    "\n",
    "### Chargement et exploration des tableaux CSV\n",
    "\n",
    "Cette étape consiste à explorer les données pour comprendre leur structure et leur contenu\n",
    "\n"
   ]
  },
  {
   "cell_type": "markdown",
   "metadata": {
    "id": "7lot6K-0mq_p"
   },
   "source": [
    "Chargement bibliothèques"
   ]
  },
  {
   "cell_type": "code",
   "execution_count": 63,
   "metadata": {
    "colab": {
     "base_uri": "https://localhost:8080/"
    },
    "executionInfo": {
     "elapsed": 1799,
     "status": "ok",
     "timestamp": 1709216678641,
     "user": {
      "displayName": "Claire Moreau",
      "userId": "00063999837599178902"
     },
     "user_tz": -60
    },
    "id": "HlHX9Vxp3wM6",
    "outputId": "a2f12a0b-5200-4004-af5d-10ad8a649116"
   },
   "outputs": [],
   "source": [
    "import numpy as np\n",
    "import pandas as pd"
   ]
  },
  {
   "cell_type": "markdown",
   "metadata": {
    "id": "dI_7DLmT3YfX"
   },
   "source": [
    "---\n",
    "### Dataset N°1 : données concernant l'émission des gaz à effets de serre et de leur impact sur l'évolution des températures par pays/zone au fil du temps\n"
   ]
  },
  {
   "cell_type": "markdown",
   "metadata": {
    "id": "swYRiBvW4Zeh"
   },
   "source": [
    "*   Processus de collecte et de nettoyage des données\n"
   ]
  },
  {
   "cell_type": "code",
   "execution_count": 64,
   "metadata": {
    "colab": {
     "base_uri": "https://localhost:8080/",
     "height": 552
    },
    "executionInfo": {
     "elapsed": 620,
     "status": "ok",
     "timestamp": 1709216679259,
     "user": {
      "displayName": "Claire Moreau",
      "userId": "00063999837599178902"
     },
     "user_tz": -60
    },
    "id": "G5D-T3XWHHJn",
    "outputId": "ccd8b53a-f856-4eca-ed6e-369f1afb15ef"
   },
   "outputs": [
    {
     "name": "stdout",
     "output_type": "stream",
     "text": [
      "Apercu premières lignes :\n",
      "        country  year iso_code  population  gdp  cement_co2  \\\n",
      "0  Afghanistan  1850      AFG   3752993.0  NaN         NaN   \n",
      "1  Afghanistan  1851      AFG   3767956.0  NaN         NaN   \n",
      "2  Afghanistan  1852      AFG   3783940.0  NaN         NaN   \n",
      "3  Afghanistan  1853      AFG   3800954.0  NaN         NaN   \n",
      "4  Afghanistan  1854      AFG   3818038.0  NaN         NaN   \n",
      "\n",
      "   cement_co2_per_capita  co2  co2_growth_abs  co2_growth_prct  ...  \\\n",
      "0                    NaN  NaN             NaN              NaN  ...   \n",
      "1                    NaN  NaN             NaN              NaN  ...   \n",
      "2                    NaN  NaN             NaN              NaN  ...   \n",
      "3                    NaN  NaN             NaN              NaN  ...   \n",
      "4                    NaN  NaN             NaN              NaN  ...   \n",
      "\n",
      "   share_global_other_co2  share_of_temperature_change_from_ghg  \\\n",
      "0                     NaN                                   NaN   \n",
      "1                     NaN                                 0.165   \n",
      "2                     NaN                                 0.164   \n",
      "3                     NaN                                 0.164   \n",
      "4                     NaN                                 0.163   \n",
      "\n",
      "   temperature_change_from_ch4  temperature_change_from_co2  \\\n",
      "0                          NaN                          NaN   \n",
      "1                          0.0                          0.0   \n",
      "2                          0.0                          0.0   \n",
      "3                          0.0                          0.0   \n",
      "4                          0.0                          0.0   \n",
      "\n",
      "   temperature_change_from_ghg  temperature_change_from_n2o  total_ghg  \\\n",
      "0                          NaN                          NaN        NaN   \n",
      "1                          0.0                          0.0        NaN   \n",
      "2                          0.0                          0.0        NaN   \n",
      "3                          0.0                          0.0        NaN   \n",
      "4                          0.0                          0.0        NaN   \n",
      "\n",
      "   total_ghg_excluding_lucf  trade_co2  trade_co2_share  \n",
      "0                       NaN        NaN              NaN  \n",
      "1                       NaN        NaN              NaN  \n",
      "2                       NaN        NaN              NaN  \n",
      "3                       NaN        NaN              NaN  \n",
      "4                       NaN        NaN              NaN  \n",
      "\n",
      "[5 rows x 79 columns]\n",
      "% de données manquantes par colonne:\n",
      " country                         0.000000\n",
      "year                            0.000000\n",
      "iso_code                       17.356111\n",
      "population                     17.818053\n",
      "gdp                            69.694952\n",
      "                                 ...    \n",
      "temperature_change_from_n2o    21.719589\n",
      "total_ghg                      86.778476\n",
      "total_ghg_excluding_lucf       86.778476\n",
      "trade_co2                      90.848558\n",
      "trade_co2_share                90.850639\n",
      "Length: 79, dtype: float64 \n",
      "\n",
      "Nombre de lignes dupliquées :\n",
      " 0 \n",
      "\n",
      "Information sur le contenu du DataFrame :\n",
      "\n",
      "<class 'pandas.core.frame.DataFrame'>\n",
      "RangeIndex: 48058 entries, 0 to 48057\n",
      "Data columns (total 79 columns):\n",
      " #   Column                                     Non-Null Count  Dtype  \n",
      "---  ------                                     --------------  -----  \n",
      " 0   country                                    48058 non-null  object \n",
      " 1   year                                       48058 non-null  int64  \n",
      " 2   iso_code                                   39717 non-null  object \n",
      " 3   population                                 39495 non-null  float64\n",
      " 4   gdp                                        14564 non-null  float64\n",
      " 5   cement_co2                                 23764 non-null  float64\n",
      " 6   cement_co2_per_capita                      22017 non-null  float64\n",
      " 7   co2                                        30308 non-null  float64\n",
      " 8   co2_growth_abs                             28157 non-null  float64\n",
      " 9   co2_growth_prct                            25136 non-null  float64\n",
      " 10  co2_including_luc                          23320 non-null  float64\n",
      " 11  co2_including_luc_growth_abs               23030 non-null  float64\n",
      " 12  co2_including_luc_growth_prct              23313 non-null  float64\n",
      " 13  co2_including_luc_per_capita               23320 non-null  float64\n",
      " 14  co2_including_luc_per_gdp                  15608 non-null  float64\n",
      " 15  co2_including_luc_per_unit_energy          9608 non-null   float64\n",
      " 16  co2_per_capita                             26600 non-null  float64\n",
      " 17  co2_per_gdp                                16290 non-null  float64\n",
      " 18  co2_per_unit_energy                        10241 non-null  float64\n",
      " 19  coal_co2                                   25075 non-null  float64\n",
      " 20  coal_co2_per_capita                        24389 non-null  float64\n",
      " 21  consumption_co2                            4718 non-null   float64\n",
      " 22  consumption_co2_per_capita                 4365 non-null   float64\n",
      " 23  consumption_co2_per_gdp                    3899 non-null   float64\n",
      " 24  cumulative_cement_co2                      23681 non-null  float64\n",
      " 25  cumulative_co2                             28495 non-null  float64\n",
      " 26  cumulative_co2_including_luc               23320 non-null  float64\n",
      " 27  cumulative_coal_co2                        24992 non-null  float64\n",
      " 28  cumulative_flaring_co2                     24909 non-null  float64\n",
      " 29  cumulative_gas_co2                         25000 non-null  float64\n",
      " 30  cumulative_luc_co2                         37022 non-null  float64\n",
      " 31  cumulative_oil_co2                         25028 non-null  float64\n",
      " 32  cumulative_other_co2                       2593 non-null   float64\n",
      " 33  energy_per_capita                          10061 non-null  float64\n",
      " 34  energy_per_gdp                             7159 non-null   float64\n",
      " 35  flaring_co2                                24992 non-null  float64\n",
      " 36  flaring_co2_per_capita                     24261 non-null  float64\n",
      " 37  gas_co2                                    25083 non-null  float64\n",
      " 38  gas_co2_per_capita                         24352 non-null  float64\n",
      " 39  ghg_excluding_lucf_per_capita              6354 non-null   float64\n",
      " 40  ghg_per_capita                             6354 non-null   float64\n",
      " 41  land_use_change_co2                        37022 non-null  float64\n",
      " 42  land_use_change_co2_per_capita             36313 non-null  float64\n",
      " 43  methane                                    6355 non-null   float64\n",
      " 44  methane_per_capita                         6355 non-null   float64\n",
      " 45  nitrous_oxide                              6355 non-null   float64\n",
      " 46  nitrous_oxide_per_capita                   6355 non-null   float64\n",
      " 47  oil_co2                                    25111 non-null  float64\n",
      " 48  oil_co2_per_capita                         24380 non-null  float64\n",
      " 49  other_co2_per_capita                       2447 non-null   float64\n",
      " 50  other_industry_co2                         2593 non-null   float64\n",
      " 51  primary_energy_consumption                 10103 non-null  float64\n",
      " 52  share_global_cement_co2                    20208 non-null  float64\n",
      " 53  share_global_co2                           28495 non-null  float64\n",
      " 54  share_global_co2_including_luc             23320 non-null  float64\n",
      " 55  share_global_coal_co2                      24992 non-null  float64\n",
      " 56  share_global_cumulative_cement_co2         20208 non-null  float64\n",
      " 57  share_global_cumulative_co2                28495 non-null  float64\n",
      " 58  share_global_cumulative_co2_including_luc  23320 non-null  float64\n",
      " 59  share_global_cumulative_coal_co2           24992 non-null  float64\n",
      " 60  share_global_cumulative_flaring_co2        16129 non-null  float64\n",
      " 61  share_global_cumulative_gas_co2            22156 non-null  float64\n",
      " 62  share_global_cumulative_luc_co2            37022 non-null  float64\n",
      " 63  share_global_cumulative_oil_co2            23513 non-null  float64\n",
      " 64  share_global_cumulative_other_co2          2593 non-null   float64\n",
      " 65  share_global_flaring_co2                   16129 non-null  float64\n",
      " 66  share_global_gas_co2                       22156 non-null  float64\n",
      " 67  share_global_luc_co2                       37022 non-null  float64\n",
      " 68  share_global_oil_co2                       23513 non-null  float64\n",
      " 69  share_global_other_co2                     2593 non-null   float64\n",
      " 70  share_of_temperature_change_from_ghg       41724 non-null  float64\n",
      " 71  temperature_change_from_ch4                37620 non-null  float64\n",
      " 72  temperature_change_from_co2                41724 non-null  float64\n",
      " 73  temperature_change_from_ghg                41724 non-null  float64\n",
      " 74  temperature_change_from_n2o                37620 non-null  float64\n",
      " 75  total_ghg                                  6354 non-null   float64\n",
      " 76  total_ghg_excluding_lucf                   6354 non-null   float64\n",
      " 77  trade_co2                                  4398 non-null   float64\n",
      " 78  trade_co2_share                            4397 non-null   float64\n",
      "dtypes: float64(76), int64(1), object(2)\n",
      "memory usage: 29.0+ MB\n",
      "\n",
      "Nombre lignes et colonnes du DataFrame : (48058, 79) \n",
      "\n",
      "Noms des colonnes\n",
      " Index(['country', 'year', 'iso_code', 'population', 'gdp', 'cement_co2',\n",
      "       'cement_co2_per_capita', 'co2', 'co2_growth_abs', 'co2_growth_prct',\n",
      "       'co2_including_luc', 'co2_including_luc_growth_abs',\n",
      "       'co2_including_luc_growth_prct', 'co2_including_luc_per_capita',\n",
      "       'co2_including_luc_per_gdp', 'co2_including_luc_per_unit_energy',\n",
      "       'co2_per_capita', 'co2_per_gdp', 'co2_per_unit_energy', 'coal_co2',\n",
      "       'coal_co2_per_capita', 'consumption_co2', 'consumption_co2_per_capita',\n",
      "       'consumption_co2_per_gdp', 'cumulative_cement_co2', 'cumulative_co2',\n",
      "       'cumulative_co2_including_luc', 'cumulative_coal_co2',\n",
      "       'cumulative_flaring_co2', 'cumulative_gas_co2', 'cumulative_luc_co2',\n",
      "       'cumulative_oil_co2', 'cumulative_other_co2', 'energy_per_capita',\n",
      "       'energy_per_gdp', 'flaring_co2', 'flaring_co2_per_capita', 'gas_co2',\n",
      "       'gas_co2_per_capita', 'ghg_excluding_lucf_per_capita', 'ghg_per_capita',\n",
      "       'land_use_change_co2', 'land_use_change_co2_per_capita', 'methane',\n",
      "       'methane_per_capita', 'nitrous_oxide', 'nitrous_oxide_per_capita',\n",
      "       'oil_co2', 'oil_co2_per_capita', 'other_co2_per_capita',\n",
      "       'other_industry_co2', 'primary_energy_consumption',\n",
      "       'share_global_cement_co2', 'share_global_co2',\n",
      "       'share_global_co2_including_luc', 'share_global_coal_co2',\n",
      "       'share_global_cumulative_cement_co2', 'share_global_cumulative_co2',\n",
      "       'share_global_cumulative_co2_including_luc',\n",
      "       'share_global_cumulative_coal_co2',\n",
      "       'share_global_cumulative_flaring_co2',\n",
      "       'share_global_cumulative_gas_co2', 'share_global_cumulative_luc_co2',\n",
      "       'share_global_cumulative_oil_co2', 'share_global_cumulative_other_co2',\n",
      "       'share_global_flaring_co2', 'share_global_gas_co2',\n",
      "       'share_global_luc_co2', 'share_global_oil_co2',\n",
      "       'share_global_other_co2', 'share_of_temperature_change_from_ghg',\n",
      "       'temperature_change_from_ch4', 'temperature_change_from_co2',\n",
      "       'temperature_change_from_ghg', 'temperature_change_from_n2o',\n",
      "       'total_ghg', 'total_ghg_excluding_lucf', 'trade_co2',\n",
      "       'trade_co2_share'],\n",
      "      dtype='object')\n"
     ]
    }
   ],
   "source": [
    "df=pd.read_csv(\"./owid.csv\")\n",
    "print('Apercu premières lignes :\\n', df.head())\n",
    "print ('% de données manquantes par colonne:\\n', df.isna().mean()*100, \"\\n\")\n",
    "print ('Nombre de lignes dupliquées :\\n', df.duplicated().sum(), \"\\n\")\n",
    "print ('Information sur le contenu du DataFrame :\\n')\n",
    "df.info()\n",
    "print ('\\nNombre lignes et colonnes du DataFrame :', df.shape, \"\\n\")\n",
    "print ('Noms des colonnes\\n', df.columns)"
   ]
  },
  {
   "cell_type": "markdown",
   "metadata": {
    "id": "09MWa7S9hZPl"
   },
   "source": [
    "\n",
    "\n",
    "Après avoir exploré les données, nous devons nettoyer les données pour éliminer les données inutiles pour notre analyse.\n",
    "\n",
    "\n",
    "\n"
   ]
  },
  {
   "cell_type": "code",
   "execution_count": 65,
   "metadata": {
    "colab": {
     "base_uri": "https://localhost:8080/",
     "height": 226
    },
    "executionInfo": {
     "elapsed": 11,
     "status": "ok",
     "timestamp": 1709216679260,
     "user": {
      "displayName": "Claire Moreau",
      "userId": "00063999837599178902"
     },
     "user_tz": -60
    },
    "id": "2M6bs70aIQNs",
    "outputId": "4648b381-60ae-4dfb-b74f-7e07c49f2c36"
   },
   "outputs": [
    {
     "data": {
      "text/html": [
       "<div>\n",
       "<style scoped>\n",
       "    .dataframe tbody tr th:only-of-type {\n",
       "        vertical-align: middle;\n",
       "    }\n",
       "\n",
       "    .dataframe tbody tr th {\n",
       "        vertical-align: top;\n",
       "    }\n",
       "\n",
       "    .dataframe thead th {\n",
       "        text-align: right;\n",
       "    }\n",
       "</style>\n",
       "<table border=\"1\" class=\"dataframe\">\n",
       "  <thead>\n",
       "    <tr style=\"text-align: right;\">\n",
       "      <th></th>\n",
       "      <th>country</th>\n",
       "      <th>year</th>\n",
       "      <th>iso_code</th>\n",
       "      <th>population</th>\n",
       "      <th>gdp</th>\n",
       "      <th>co2</th>\n",
       "      <th>co2_per_capita</th>\n",
       "      <th>methane</th>\n",
       "      <th>nitrous_oxide</th>\n",
       "      <th>cumulative_gas_co2</th>\n",
       "      <th>cumulative_oil_co2</th>\n",
       "      <th>cumulative_flaring_co2</th>\n",
       "      <th>cumulative_coal_co2</th>\n",
       "      <th>cumulative_other_co2</th>\n",
       "      <th>temperature_change_from_ch4</th>\n",
       "      <th>temperature_change_from_co2</th>\n",
       "      <th>temperature_change_from_ghg</th>\n",
       "      <th>temperature_change_from_n2o</th>\n",
       "    </tr>\n",
       "  </thead>\n",
       "  <tbody>\n",
       "    <tr>\n",
       "      <th>0</th>\n",
       "      <td>Afghanistan</td>\n",
       "      <td>1850</td>\n",
       "      <td>AFG</td>\n",
       "      <td>3752993.0</td>\n",
       "      <td>NaN</td>\n",
       "      <td>NaN</td>\n",
       "      <td>NaN</td>\n",
       "      <td>NaN</td>\n",
       "      <td>NaN</td>\n",
       "      <td>NaN</td>\n",
       "      <td>NaN</td>\n",
       "      <td>NaN</td>\n",
       "      <td>NaN</td>\n",
       "      <td>NaN</td>\n",
       "      <td>NaN</td>\n",
       "      <td>NaN</td>\n",
       "      <td>NaN</td>\n",
       "      <td>NaN</td>\n",
       "    </tr>\n",
       "    <tr>\n",
       "      <th>1</th>\n",
       "      <td>Afghanistan</td>\n",
       "      <td>1851</td>\n",
       "      <td>AFG</td>\n",
       "      <td>3767956.0</td>\n",
       "      <td>NaN</td>\n",
       "      <td>NaN</td>\n",
       "      <td>NaN</td>\n",
       "      <td>NaN</td>\n",
       "      <td>NaN</td>\n",
       "      <td>NaN</td>\n",
       "      <td>NaN</td>\n",
       "      <td>NaN</td>\n",
       "      <td>NaN</td>\n",
       "      <td>NaN</td>\n",
       "      <td>0.0</td>\n",
       "      <td>0.0</td>\n",
       "      <td>0.0</td>\n",
       "      <td>0.0</td>\n",
       "    </tr>\n",
       "    <tr>\n",
       "      <th>2</th>\n",
       "      <td>Afghanistan</td>\n",
       "      <td>1852</td>\n",
       "      <td>AFG</td>\n",
       "      <td>3783940.0</td>\n",
       "      <td>NaN</td>\n",
       "      <td>NaN</td>\n",
       "      <td>NaN</td>\n",
       "      <td>NaN</td>\n",
       "      <td>NaN</td>\n",
       "      <td>NaN</td>\n",
       "      <td>NaN</td>\n",
       "      <td>NaN</td>\n",
       "      <td>NaN</td>\n",
       "      <td>NaN</td>\n",
       "      <td>0.0</td>\n",
       "      <td>0.0</td>\n",
       "      <td>0.0</td>\n",
       "      <td>0.0</td>\n",
       "    </tr>\n",
       "    <tr>\n",
       "      <th>3</th>\n",
       "      <td>Afghanistan</td>\n",
       "      <td>1853</td>\n",
       "      <td>AFG</td>\n",
       "      <td>3800954.0</td>\n",
       "      <td>NaN</td>\n",
       "      <td>NaN</td>\n",
       "      <td>NaN</td>\n",
       "      <td>NaN</td>\n",
       "      <td>NaN</td>\n",
       "      <td>NaN</td>\n",
       "      <td>NaN</td>\n",
       "      <td>NaN</td>\n",
       "      <td>NaN</td>\n",
       "      <td>NaN</td>\n",
       "      <td>0.0</td>\n",
       "      <td>0.0</td>\n",
       "      <td>0.0</td>\n",
       "      <td>0.0</td>\n",
       "    </tr>\n",
       "    <tr>\n",
       "      <th>4</th>\n",
       "      <td>Afghanistan</td>\n",
       "      <td>1854</td>\n",
       "      <td>AFG</td>\n",
       "      <td>3818038.0</td>\n",
       "      <td>NaN</td>\n",
       "      <td>NaN</td>\n",
       "      <td>NaN</td>\n",
       "      <td>NaN</td>\n",
       "      <td>NaN</td>\n",
       "      <td>NaN</td>\n",
       "      <td>NaN</td>\n",
       "      <td>NaN</td>\n",
       "      <td>NaN</td>\n",
       "      <td>NaN</td>\n",
       "      <td>0.0</td>\n",
       "      <td>0.0</td>\n",
       "      <td>0.0</td>\n",
       "      <td>0.0</td>\n",
       "    </tr>\n",
       "  </tbody>\n",
       "</table>\n",
       "</div>"
      ],
      "text/plain": [
       "       country  year iso_code  population  gdp  co2  co2_per_capita  methane  \\\n",
       "0  Afghanistan  1850      AFG   3752993.0  NaN  NaN             NaN      NaN   \n",
       "1  Afghanistan  1851      AFG   3767956.0  NaN  NaN             NaN      NaN   \n",
       "2  Afghanistan  1852      AFG   3783940.0  NaN  NaN             NaN      NaN   \n",
       "3  Afghanistan  1853      AFG   3800954.0  NaN  NaN             NaN      NaN   \n",
       "4  Afghanistan  1854      AFG   3818038.0  NaN  NaN             NaN      NaN   \n",
       "\n",
       "   nitrous_oxide  cumulative_gas_co2  cumulative_oil_co2  \\\n",
       "0            NaN                 NaN                 NaN   \n",
       "1            NaN                 NaN                 NaN   \n",
       "2            NaN                 NaN                 NaN   \n",
       "3            NaN                 NaN                 NaN   \n",
       "4            NaN                 NaN                 NaN   \n",
       "\n",
       "   cumulative_flaring_co2  cumulative_coal_co2  cumulative_other_co2  \\\n",
       "0                     NaN                  NaN                   NaN   \n",
       "1                     NaN                  NaN                   NaN   \n",
       "2                     NaN                  NaN                   NaN   \n",
       "3                     NaN                  NaN                   NaN   \n",
       "4                     NaN                  NaN                   NaN   \n",
       "\n",
       "   temperature_change_from_ch4  temperature_change_from_co2  \\\n",
       "0                          NaN                          NaN   \n",
       "1                          0.0                          0.0   \n",
       "2                          0.0                          0.0   \n",
       "3                          0.0                          0.0   \n",
       "4                          0.0                          0.0   \n",
       "\n",
       "   temperature_change_from_ghg  temperature_change_from_n2o  \n",
       "0                          NaN                          NaN  \n",
       "1                          0.0                          0.0  \n",
       "2                          0.0                          0.0  \n",
       "3                          0.0                          0.0  \n",
       "4                          0.0                          0.0  "
      ]
     },
     "execution_count": 65,
     "metadata": {},
     "output_type": "execute_result"
    }
   ],
   "source": [
    "#Colonnes à garder dans le fichier\n",
    "colonnes_a_garder = ['country', 'year', 'iso_code', 'population', 'gdp',\n",
    "                     'co2', 'co2_per_capita',\n",
    "                     'methane', 'nitrous_oxide',\n",
    "                     'cumulative_gas_co2', 'cumulative_oil_co2','cumulative_flaring_co2','cumulative_coal_co2','cumulative_other_co2',\n",
    "                     'temperature_change_from_ch4', 'temperature_change_from_co2',\n",
    "                     'temperature_change_from_ghg', 'temperature_change_from_n2o']\n",
    "df = df[colonnes_a_garder].copy()\n",
    "df.head()"
   ]
  },
  {
   "cell_type": "code",
   "execution_count": 66,
   "metadata": {
    "colab": {
     "base_uri": "https://localhost:8080/"
    },
    "executionInfo": {
     "elapsed": 6,
     "status": "ok",
     "timestamp": 1709216679260,
     "user": {
      "displayName": "Claire Moreau",
      "userId": "00063999837599178902"
     },
     "user_tz": -60
    },
    "id": "MpmDAZncIaf0",
    "outputId": "71847845-79c2-46c0-a138-f3aad6c64d24"
   },
   "outputs": [
    {
     "name": "stdout",
     "output_type": "stream",
     "text": [
      "Noms des colonnes \n",
      " Index(['country', 'year', 'iso_code', 'population', 'gdp', 'co2',\n",
      "       'co2_per_capita', 'methane', 'nitrous_oxide', 'cumulative_gas_co2',\n",
      "       'cumulative_oil_co2', 'cumulative_flaring_co2', 'cumulative_coal_co2',\n",
      "       'cumulative_other_co2', 'temperature_change_from_ch4',\n",
      "       'temperature_change_from_co2', 'temperature_change_from_ghg',\n",
      "       'temperature_change_from_n2o'],\n",
      "      dtype='object')\n",
      "shape fichier \n",
      " (41801, 18) \n",
      "\n"
     ]
    }
   ],
   "source": [
    "#Les pays (lignes) à retirer du fichier (Pays qui n'en sont pas en fait !)\n",
    "A_retirer = ['Africa (GCP)', 'Asia (GCP)',\n",
    "       'Asia (excl. China and India)', 'Central America (GCP)',\n",
    "       'Europe (GCP)', 'Europe (excl. EU-27)', 'Europe (excl. EU-28)',\n",
    "       'European Union (27)',\n",
    "       'French Equatorial Africa (Jones et al. 2023)',\n",
    "       'French West Africa (Jones et al. 2023)', 'High-income countries',\n",
    "       'International aviation', 'International shipping',\n",
    "       'International transport', 'Kosovo', 'Kuwaiti Oil Fires (GCP)',\n",
    "       'Kuwaiti Oil Fires (Jones et al. 2023)',\n",
    "       'Least developed countries (Jones et al. 2023)',\n",
    "       'Leeward Islands (GCP)', 'Leeward Islands (Jones et al. 2023)',\n",
    "       'Low-income countries', 'Lower-middle-income countries',\n",
    "       'Middle East (GCP)', 'Non-OECD (GCP)',\n",
    "       'North America (GCP)', 'North America (excl. USA)', 'OECD (GCP)',\n",
    "       'OECD (Jones et al. 2023)', 'Oceania (GCP)',\n",
    "       'Panama Canal Zone (GCP)', 'Panama Canal Zone (Jones et al. 2023)',\n",
    "       'Ryukyu Islands (GCP)', 'Ryukyu Islands (Jones et al. 2023)',\n",
    "       'South America (GCP)',\n",
    "       'St. Kitts-Nevis-Anguilla (GCP)',\n",
    "       'St. Kitts-Nevis-Anguilla (Jones et al. 2023)',\n",
    "       'Upper-middle-income countries']\n",
    "df = df.loc[~df.country.isin(A_retirer)]\n",
    "print ('Noms des colonnes',\"\\n\", df.columns)\n",
    "print ('shape fichier',\"\\n\", df.shape, \"\\n\")"
   ]
  },
  {
   "cell_type": "markdown",
   "metadata": {
    "id": "nmNBd0Fv3nqn"
   },
   "source": [
    "---\n",
    "### Dataset N°2 : données concernant les écarts de température par pays/zone au fil du temps\n",
    "\n"
   ]
  },
  {
   "cell_type": "markdown",
   "metadata": {
    "id": "5T-626i5muOa"
   },
   "source": [
    "*   Processus de collecte et de nettoyage des données"
   ]
  },
  {
   "cell_type": "code",
   "execution_count": 67,
   "metadata": {
    "colab": {
     "base_uri": "https://localhost:8080/",
     "height": 711
    },
    "executionInfo": {
     "elapsed": 601,
     "status": "ok",
     "timestamp": 1709216679857,
     "user": {
      "displayName": "Claire Moreau",
      "userId": "00063999837599178902"
     },
     "user_tz": -60
    },
    "id": "4MXsJ6qonYLo",
    "outputId": "5f810e56-8581-4f65-f174-a59ade6449ac"
   },
   "outputs": [
    {
     "name": "stdout",
     "output_type": "stream",
     "text": [
      "Apercu premières lignes :\n",
      "         Entity Code  Year  Surface temperature anomaly\n",
      "0  Afghanistan  AFG  1947                         1.93\n",
      "1  Afghanistan  AFG  1948                         0.83\n",
      "2  Afghanistan  AFG  1949                         0.05\n",
      "3  Afghanistan  AFG  1950                        -1.36\n",
      "4  Afghanistan  AFG  1951                        -0.03\n",
      "% de données manquantes par colonne:\n",
      " Entity                         0.000000\n",
      "Code                           0.554691\n",
      "Year                           0.000000\n",
      "Surface temperature anomaly    0.000000\n",
      "dtype: float64 \n",
      "\n",
      "Nombre de lignes dupliquées :\n",
      " 0 \n",
      "\n",
      "Information sur le contenu du DataFrame :\n",
      "\n",
      "<class 'pandas.core.frame.DataFrame'>\n",
      "RangeIndex: 29566 entries, 0 to 29565\n",
      "Data columns (total 4 columns):\n",
      " #   Column                       Non-Null Count  Dtype  \n",
      "---  ------                       --------------  -----  \n",
      " 0   Entity                       29566 non-null  object \n",
      " 1   Code                         29402 non-null  object \n",
      " 2   Year                         29566 non-null  int64  \n",
      " 3   Surface temperature anomaly  29566 non-null  float64\n",
      "dtypes: float64(1), int64(1), object(2)\n",
      "memory usage: 924.1+ KB\n",
      "\n",
      "Nombre lignes et colonnes du DataFrame : (29566, 4) \n",
      "\n",
      "Noms des colonnes\n",
      " Index(['Entity', 'Code', 'Year', 'Surface temperature anomaly'], dtype='object')\n"
     ]
    }
   ],
   "source": [
    "df2=pd.read_csv(\"./hadcrut-surface-temperature-anomaly.csv\")\n",
    "print('Apercu premières lignes :\\n', df2.head())\n",
    "print ('% de données manquantes par colonne:\\n', df2.isna().mean()*100, \"\\n\")\n",
    "print ('Nombre de lignes dupliquées :\\n', df2.duplicated().sum(), \"\\n\")\n",
    "print ('Information sur le contenu du DataFrame :\\n')\n",
    "df2.info()\n",
    "print ('\\nNombre lignes et colonnes du DataFrame :', df2.shape, \"\\n\")\n",
    "print ('Noms des colonnes\\n', df2.columns)"
   ]
  },
  {
   "cell_type": "markdown",
   "metadata": {
    "id": "W9NjxNyyv5eI"
   },
   "source": [
    "\n",
    "\n",
    "---\n",
    "\n",
    "\n",
    "Gestion des données manquantes :\n",
    "*   Tout comme pour le Dataset N°1, l'absence de données 'Code' est très probablement dû à la présence de régions ou zones non codifiées dans la norme ISO-3166-1, ou alternativement, que le pays existe bien, mais son code n'a pas été répercuté dans le Dataset N°2 ;\n",
    "*   Une simple analyse du couple de modalités des colonnes 'Entity' et 'Code' devrait permettre de valider si ces hypothèses sont les bonnes.\n",
    "\n",
    "\n"
   ]
  },
  {
   "cell_type": "code",
   "execution_count": 68,
   "metadata": {
    "colab": {
     "base_uri": "https://localhost:8080/"
    },
    "executionInfo": {
     "elapsed": 8,
     "status": "ok",
     "timestamp": 1709216679857,
     "user": {
      "displayName": "Claire Moreau",
      "userId": "00063999837599178902"
     },
     "user_tz": -60
    },
    "id": "PRLp6BSUv803",
    "outputId": "882f7bf9-df4c-4ba2-ee5e-d1dae38ed859"
   },
   "outputs": [
    {
     "name": "stdout",
     "output_type": "stream",
     "text": [
      "Données manquantes : \n",
      "            Entity Code\n",
      "16901  Micronesia  NaN \n",
      "\n"
     ]
    }
   ],
   "source": [
    "missing_data = df2[df2['Code'].isna()]\n",
    "missing_data = missing_data.drop([\"Year\", \"Surface temperature anomaly\"], axis=1)\n",
    "print ('Données manquantes : \\n', missing_data.drop_duplicates(), \"\\n\")"
   ]
  },
  {
   "cell_type": "markdown",
   "metadata": {
    "id": "d1tzXFaWD6iL"
   },
   "source": [
    "Une recherche confirme que le pays 'Micronésie' existe bien, et est codifié 'FSM' dans la codification à 3 lettre de la norme ISO-3166-1. Sachant qu'une seule entité est affectée, on peut remplacer tous les NaN de la colonne code par le code 'FSM'."
   ]
  },
  {
   "cell_type": "code",
   "execution_count": 69,
   "metadata": {
    "colab": {
     "base_uri": "https://localhost:8080/"
    },
    "executionInfo": {
     "elapsed": 7,
     "status": "ok",
     "timestamp": 1709216679858,
     "user": {
      "displayName": "Claire Moreau",
      "userId": "00063999837599178902"
     },
     "user_tz": -60
    },
    "id": "YWbAXRvaEFWM",
    "outputId": "92e68090-9c4f-4665-ae45-fc9858d10e47"
   },
   "outputs": [
    {
     "name": "stdout",
     "output_type": "stream",
     "text": [
      "% de données manquantes par colonne:  \n",
      " Entity                         0.0\n",
      "Code                           0.0\n",
      "Year                           0.0\n",
      "Surface temperature anomaly    0.0\n",
      "dtype: float64 \n",
      "\n"
     ]
    }
   ],
   "source": [
    "df2['Code'] = df2['Code'].replace(np.nan, 'FSM')\n",
    "print ('% de données manquantes par colonne: ',\"\\n\", df2.isna().mean()*100, \"\\n\")"
   ]
  },
  {
   "cell_type": "markdown",
   "metadata": {
    "id": "dW1UEs4cC3yL"
   },
   "source": [
    "---\n",
    "Gestion des données aberrantes ou superflues : cas des zones/régions avec un code ISO-3166-1 fantaisiste :\n",
    "\n",
    "*   Une analyse minutieuse des données, en lien avec celles présentes dans le Dataset N°1, est le présente de codes ISO non présents dans le Dataset N°1, ni dans les codes disponibles dans la norme ISO-3166-1 ;\n",
    "*   Pour valider et identifier ces données inutiles pour la suite de l'analyse, il suffit donc d'identifier tout code non présent dans les codes alpha-3 de la norme ISO-3166-1.\n",
    "\n",
    "**Note :** bien qu'il est possible d'utiliser le nom des pays à la place des codes, on peut se heurter d'un fichier à l'autre d'avoir des différences, liées à de mutiples facteurs, tels que : casse différente, langage et/ou alphabets différents (il existe plusieurs catégories de noms pour un pays dans la norme), problèmes liés aux diacritiques... Il est donc très recommandé d'utiliser les codes alpha-2 ou alpha-3 de la norme, ou à la valeur numérique associée à un pays. La colonne 'Entity' n'a donc pas lieu d'être pour la suite des opérations.\n",
    "\n",
    "\n",
    "\n",
    "\n",
    "\n"
   ]
  },
  {
   "cell_type": "code",
   "execution_count": 70,
   "metadata": {
    "colab": {
     "base_uri": "https://localhost:8080/"
    },
    "executionInfo": {
     "elapsed": 5,
     "status": "ok",
     "timestamp": 1709216679858,
     "user": {
      "displayName": "Claire Moreau",
      "userId": "00063999837599178902"
     },
     "user_tz": -60
    },
    "id": "KwTwgelyJ6Ox",
    "outputId": "5d0c0e0c-cd40-46cb-de5e-9d3e400f5709"
   },
   "outputs": [
    {
     "name": "stdout",
     "output_type": "stream",
     "text": [
      "['OWID_KOS', 'OWID_CYN']\n"
     ]
    }
   ],
   "source": [
    "# Source : code alpha-3 depuis norme ISO-3166-1\n",
    "alpha3_iso_codes = ['AFG','ZAF','ALA','ALB','DZA','DEU','AND','AGO','AIA','ATA','ATG','SAU','ARG','ARM','ABW','AUS','AUT','AZE','BHS','BHR','BGD','BRB','BLR','BEL','BLZ',\n",
    "             'BEN','BMU','BTN','BOL','BES','BIH','BWA','BVT','BRA','BRN','BGR','BFA','BDI','CYM','KHM','CMR','CAN','CPV','CAF','CHL','CHN','CXR','CYP','CCK','COL',\n",
    "             'COM','COG','COD','COK','KOR','PRK','CRI','CIV','HRV','CUB','CUW','DNK','DJI','DOM','DMA','EGY','SLV','ARE','ECU','ERI','ESP','EST','USA','ETH','FLK',\n",
    "             'FRO','FJI','FIN','FRA','GAB','GMB','GEO','SGS','GHA','GIB','GRC','GRD','GRL','GLP','GUM','GTM','GGY','GIN','GNB','GNQ','GUY','GUF','HTI','HMD','HND',\n",
    "             'HKG','HUN','IMN','UMI','VGB','VIR','IND','IDN','IRN','IRQ','IRL','ISL','ISR','ITA','JAM','JPN','JEY','JOR','KAZ','KEN','KGZ','KIR','KWT','LAO','LSO',\n",
    "             'LVA','LBN','LBR','LBY','LIE','LTU','LUX','MAC','MKD','MDG','MYS','MWI','MDV','MLI','MLT','MNP','MAR','MHL','MTQ','MUS','MRT','MYT','MEX','FSM','MDA',\n",
    "             'MCO','MNG','MNE','MSR','MOZ','MMR','NAM','NRU','NPL','NIC','NER','NGA','NIU','NFK','NOR','NCL','NZL','IOT','OMN','UGA','UZB','PAK','PLW','PSE','PAN',\n",
    "             'PNG','PRY','NLD','PER','PHL','PCN','POL','PYF','PRI','PRT','QAT','REU','ROU','GBR','RUS','RWA','ESH','BLM','KNA','SMR','MAF','SXM','SPM','VAT','VCT',\n",
    "             'SHN','LCA','SLB','WSM','ASM','STP','SEN','SRB','SYC','SLE','SGP','SVK','SVN','SOM','SDN','SSD','LKA','SWE','CHE','SUR','SJM','SWZ','SYR','TJK','TWN',\n",
    "             'TZA','TCD','CZE','ATF','THA','TLS','TGO','TKL','TON','TTO','TUN','TKM','TCA','TUR','TUV','UKR','URY','VUT','VEN','VNM','WLF','YEM','ZMB','ZWE']\n",
    "\n",
    "# Intialisation variable\n",
    "illegal_codes = []\n",
    "# Recherche des code \"ISO\"-like fantaisistes du fichier\n",
    "for value in df2['Code'].unique():\n",
    "  if value not in alpha3_iso_codes:\n",
    "    illegal_codes.append(value)\n",
    "\n",
    "print(illegal_codes)\n",
    "\n",
    "# Suppression des lignes utilisant ces codes ISO non-standards\n",
    "df2.drop(df2[df2['Code'] == 'OWID_KOS'].index, inplace = True)\n",
    "df2.drop(df2[df2['Code'] == 'OWID_CYN'].index, inplace = True)\n",
    "\n",
    "# Suppression de la colonne Entity qui fait double-emploi avec la colonne 'Code' et est potentiellement sujette à erreurs (cf Note ci-dessus)\n",
    "df2= df2.drop('Entity', axis=1)\n",
    "\n",
    "#print ('Information sur le contenu du DataFrame',\"\\n\", df2.info(), \"\\n\")\n",
    "#print ('Nombre lignes et colonnes du DataFrame :', df2.shape, \"\\n\")\n",
    "#print ('Noms des colonnes',\"\\n\", df2.columns)\n"
   ]
  },
  {
   "cell_type": "markdown",
   "metadata": {
    "id": "M9TcKZDEv9e1"
   },
   "source": [
    "Cohérence des données, et éventuelle élimination de colonnes en prévision de la fusion avec le Dataset N°1 :\n",
    "*   La finalité de la fusion est de rajouter par pays et par année la valeur d'évolution des températures ;\n",
    "*   Les clés pour réaliser cette fusion, sont le code de l'entité et l'année (ex : 'AFG' et 1987) ;\n",
    "*   La casse du code entité est identique dans les 2 DataFrames ;\n",
    "*   Il n'y a donc aucune action supplémentaire à réaliser sur ce DataFrame.\n",
    "\n",
    "\n",
    "\n",
    "\n"
   ]
  },
  {
   "cell_type": "markdown",
   "metadata": {
    "id": "xM-OY_sALed-"
   },
   "source": [
    "---\n",
    "### Fusion des 2 sets de données après leurs mises en qualité"
   ]
  },
  {
   "cell_type": "markdown",
   "metadata": {},
   "source": [
    "On utilise un merge avec l'option inner pour ne garder que les données que nous avons dans le premier dataset (celui avec toutes les données d'emissions) comme dans le 2eme (celui avec toutes les données de température de surface). Nous ajoutons la colonne température issue du 2eme dataset. Le merge est effectué sur la paire [année + iso_code] pour garder l'unicité des données. "
   ]
  },
  {
   "cell_type": "code",
   "execution_count": 71,
   "metadata": {
    "executionInfo": {
     "elapsed": 477,
     "status": "ok",
     "timestamp": 1709216680332,
     "user": {
      "displayName": "Claire Moreau",
      "userId": "00063999837599178902"
     },
     "user_tz": -60
    },
    "id": "tALkI4__LnAS"
   },
   "outputs": [],
   "source": [
    "df2.rename(columns={'Code' : 'iso_code', 'Year':'year','Surface temperature anomaly': 'temperature'}, inplace=True)\n",
    "df = pd.merge(df, df2,  how='inner',  on=['year', 'iso_code'])"
   ]
  },
  {
   "cell_type": "code",
   "execution_count": 60,
   "metadata": {
    "colab": {
     "base_uri": "https://localhost:8080/",
     "height": 226
    },
    "executionInfo": {
     "elapsed": 6,
     "status": "ok",
     "timestamp": 1709216680333,
     "user": {
      "displayName": "Claire Moreau",
      "userId": "00063999837599178902"
     },
     "user_tz": -60
    },
    "id": "r8UBqb25AiM6",
    "outputId": "5eb6339c-0337-4757-bfc9-2372c51a37b2"
   },
   "outputs": [
    {
     "data": {
      "text/plain": [
       "country                            0\n",
       "year                               0\n",
       "iso_code                        2084\n",
       "population                      3514\n",
       "gdp                            27237\n",
       "co2                            15886\n",
       "co2_per_capita                 17267\n",
       "methane                        35601\n",
       "nitrous_oxide                  35601\n",
       "cumulative_gas_co2             18797\n",
       "cumulative_oil_co2             18769\n",
       "cumulative_flaring_co2         18888\n",
       "cumulative_coal_co2            18805\n",
       "cumulative_other_co2           39734\n",
       "temperature_change_from_ch4     6062\n",
       "temperature_change_from_co2     3497\n",
       "temperature_change_from_ghg     3497\n",
       "temperature_change_from_n2o     6062\n",
       "dtype: int64"
      ]
     },
     "execution_count": 60,
     "metadata": {},
     "output_type": "execute_result"
    }
   ],
   "source": [
    "df.isna().sum()"
   ]
  },
  {
   "cell_type": "code",
   "execution_count": 61,
   "metadata": {},
   "outputs": [],
   "source": [
    "# export de notre dataframe pour l'utilisation en Data Vizualisation\n",
    "from pathlib import Path\n",
    "filepath = Path('./merged_owid_temp.csv')\n",
    "filepath.parent.mkdir(parents=True, exist_ok=True)\n",
    "df.to_csv(filepath)"
   ]
  },
  {
   "cell_type": "markdown",
   "metadata": {
    "id": "tb7T9two2kQA"
   },
   "source": [
    "---\n",
    "### Ajout d'une table pour classer les pays par continent / ou zone"
   ]
  },
  {
   "cell_type": "markdown",
   "metadata": {},
   "source": [
    "On utilise une table par le Canada pour classifier les pays par zones géographique et/ou par continent"
   ]
  },
  {
   "cell_type": "code",
   "execution_count": 72,
   "metadata": {
    "colab": {
     "base_uri": "https://localhost:8080/",
     "height": 293
    },
    "executionInfo": {
     "elapsed": 475,
     "status": "ok",
     "timestamp": 1709216680803,
     "user": {
      "displayName": "Claire Moreau",
      "userId": "00063999837599178902"
     },
     "user_tz": -60
    },
    "id": "FaRSjHoj2j8t",
    "outputId": "0f21c134-c4ca-4d32-b97f-e41db14284b0"
   },
   "outputs": [
    {
     "data": {
      "text/html": [
       "<div>\n",
       "<style scoped>\n",
       "    .dataframe tbody tr th:only-of-type {\n",
       "        vertical-align: middle;\n",
       "    }\n",
       "\n",
       "    .dataframe tbody tr th {\n",
       "        vertical-align: top;\n",
       "    }\n",
       "\n",
       "    .dataframe thead th {\n",
       "        text-align: right;\n",
       "    }\n",
       "</style>\n",
       "<table border=\"1\" class=\"dataframe\">\n",
       "  <thead>\n",
       "    <tr style=\"text-align: right;\">\n",
       "      <th></th>\n",
       "      <th>zone_geo</th>\n",
       "      <th>pays</th>\n",
       "      <th>iso_code</th>\n",
       "      <th>continent</th>\n",
       "    </tr>\n",
       "  </thead>\n",
       "  <tbody>\n",
       "    <tr>\n",
       "      <th>0</th>\n",
       "      <td>11.0</td>\n",
       "      <td>Canada</td>\n",
       "      <td>CAN</td>\n",
       "      <td>1.0</td>\n",
       "    </tr>\n",
       "    <tr>\n",
       "      <th>1</th>\n",
       "      <td>11.0</td>\n",
       "      <td>Groenland</td>\n",
       "      <td>GRL</td>\n",
       "      <td>1.0</td>\n",
       "    </tr>\n",
       "    <tr>\n",
       "      <th>2</th>\n",
       "      <td>11.0</td>\n",
       "      <td>Saint-Pierre-et-Miquelon</td>\n",
       "      <td>SPM</td>\n",
       "      <td>1.0</td>\n",
       "    </tr>\n",
       "    <tr>\n",
       "      <th>3</th>\n",
       "      <td>11.0</td>\n",
       "      <td>États-Unis</td>\n",
       "      <td>USA</td>\n",
       "      <td>1.0</td>\n",
       "    </tr>\n",
       "    <tr>\n",
       "      <th>4</th>\n",
       "      <td>12.0</td>\n",
       "      <td>Belize</td>\n",
       "      <td>BLZ</td>\n",
       "      <td>1.0</td>\n",
       "    </tr>\n",
       "  </tbody>\n",
       "</table>\n",
       "</div>"
      ],
      "text/plain": [
       "   zone_geo                      pays iso_code  continent\n",
       "0      11.0                    Canada      CAN        1.0\n",
       "1      11.0                 Groenland      GRL        1.0\n",
       "2      11.0  Saint-Pierre-et-Miquelon      SPM        1.0\n",
       "3      11.0                États-Unis      USA        1.0\n",
       "4      12.0                    Belize      BLZ        1.0"
      ]
     },
     "execution_count": 72,
     "metadata": {},
     "output_type": "execute_result"
    }
   ],
   "source": [
    "df_codes = pd.read_csv(\"./ctpzi.csv\", encoding='latin-1')\n",
    "\n",
    "df_codes.drop(columns=['Num-3', 'Alpha-2','Notes de bas de page'], inplace=True)\n",
    "df_codes.Code = df_codes.Code // 1000\n",
    "df_codes[\"continent\"] = df_codes.Code // 10\n",
    "df_codes = df_codes.dropna()\n",
    "df_codes.rename(columns={'Alpha-3' : 'iso_code', 'Code':'zone_geo', 'Pays et zones d\\'intérêt' : 'pays'}, inplace=True)\n",
    "df_codes.head()"
   ]
  },
  {
   "cell_type": "code",
   "execution_count": 73,
   "metadata": {
    "colab": {
     "base_uri": "https://localhost:8080/",
     "height": 206
    },
    "executionInfo": {
     "elapsed": 444,
     "status": "ok",
     "timestamp": 1709216681243,
     "user": {
      "displayName": "Claire Moreau",
      "userId": "00063999837599178902"
     },
     "user_tz": -60
    },
    "id": "l7KTa7w12joE",
    "outputId": "2cfe3962-9ce5-48fc-b873-4a174cfde99b"
   },
   "outputs": [
    {
     "data": {
      "text/html": [
       "<div>\n",
       "<style scoped>\n",
       "    .dataframe tbody tr th:only-of-type {\n",
       "        vertical-align: middle;\n",
       "    }\n",
       "\n",
       "    .dataframe tbody tr th {\n",
       "        vertical-align: top;\n",
       "    }\n",
       "\n",
       "    .dataframe thead th {\n",
       "        text-align: right;\n",
       "    }\n",
       "</style>\n",
       "<table border=\"1\" class=\"dataframe\">\n",
       "  <thead>\n",
       "    <tr style=\"text-align: right;\">\n",
       "      <th></th>\n",
       "      <th>zone_geo</th>\n",
       "      <th>pays</th>\n",
       "      <th>iso_code</th>\n",
       "      <th>continent</th>\n",
       "      <th>year</th>\n",
       "      <th>population</th>\n",
       "      <th>gdp</th>\n",
       "      <th>co2</th>\n",
       "      <th>co2_per_capita</th>\n",
       "      <th>methane</th>\n",
       "      <th>nitrous_oxide</th>\n",
       "      <th>temperature_change_from_ch4</th>\n",
       "      <th>temperature_change_from_co2</th>\n",
       "      <th>temperature_change_from_ghg</th>\n",
       "      <th>temperature_change_from_n2o</th>\n",
       "      <th>temperature</th>\n",
       "    </tr>\n",
       "  </thead>\n",
       "  <tbody>\n",
       "    <tr>\n",
       "      <th>116</th>\n",
       "      <td>11</td>\n",
       "      <td>Canada</td>\n",
       "      <td>CAN</td>\n",
       "      <td>1</td>\n",
       "      <td>1970</td>\n",
       "      <td>21434580.0</td>\n",
       "      <td>4.177520e+11</td>\n",
       "      <td>341.177</td>\n",
       "      <td>15.917</td>\n",
       "      <td>NaN</td>\n",
       "      <td>NaN</td>\n",
       "      <td>0.003</td>\n",
       "      <td>0.012</td>\n",
       "      <td>0.015</td>\n",
       "      <td>0.001</td>\n",
       "      <td>-0.23</td>\n",
       "    </tr>\n",
       "    <tr>\n",
       "      <th>117</th>\n",
       "      <td>11</td>\n",
       "      <td>Canada</td>\n",
       "      <td>CAN</td>\n",
       "      <td>1</td>\n",
       "      <td>1971</td>\n",
       "      <td>21888686.0</td>\n",
       "      <td>4.410566e+11</td>\n",
       "      <td>352.287</td>\n",
       "      <td>16.094</td>\n",
       "      <td>NaN</td>\n",
       "      <td>NaN</td>\n",
       "      <td>0.003</td>\n",
       "      <td>0.012</td>\n",
       "      <td>0.016</td>\n",
       "      <td>0.001</td>\n",
       "      <td>-0.05</td>\n",
       "    </tr>\n",
       "    <tr>\n",
       "      <th>118</th>\n",
       "      <td>11</td>\n",
       "      <td>Canada</td>\n",
       "      <td>CAN</td>\n",
       "      <td>1</td>\n",
       "      <td>1972</td>\n",
       "      <td>22222228.0</td>\n",
       "      <td>4.643421e+11</td>\n",
       "      <td>380.792</td>\n",
       "      <td>17.136</td>\n",
       "      <td>NaN</td>\n",
       "      <td>NaN</td>\n",
       "      <td>0.003</td>\n",
       "      <td>0.013</td>\n",
       "      <td>0.016</td>\n",
       "      <td>0.001</td>\n",
       "      <td>-1.55</td>\n",
       "    </tr>\n",
       "    <tr>\n",
       "      <th>119</th>\n",
       "      <td>11</td>\n",
       "      <td>Canada</td>\n",
       "      <td>CAN</td>\n",
       "      <td>1</td>\n",
       "      <td>1973</td>\n",
       "      <td>22502026.0</td>\n",
       "      <td>4.976174e+11</td>\n",
       "      <td>381.273</td>\n",
       "      <td>16.944</td>\n",
       "      <td>NaN</td>\n",
       "      <td>NaN</td>\n",
       "      <td>0.003</td>\n",
       "      <td>0.013</td>\n",
       "      <td>0.016</td>\n",
       "      <td>0.001</td>\n",
       "      <td>0.50</td>\n",
       "    </tr>\n",
       "    <tr>\n",
       "      <th>120</th>\n",
       "      <td>11</td>\n",
       "      <td>Canada</td>\n",
       "      <td>CAN</td>\n",
       "      <td>1</td>\n",
       "      <td>1974</td>\n",
       "      <td>22812430.0</td>\n",
       "      <td>5.179518e+11</td>\n",
       "      <td>389.617</td>\n",
       "      <td>17.079</td>\n",
       "      <td>NaN</td>\n",
       "      <td>NaN</td>\n",
       "      <td>0.003</td>\n",
       "      <td>0.013</td>\n",
       "      <td>0.017</td>\n",
       "      <td>0.001</td>\n",
       "      <td>-0.65</td>\n",
       "    </tr>\n",
       "  </tbody>\n",
       "</table>\n",
       "</div>"
      ],
      "text/plain": [
       "     zone_geo    pays iso_code  continent  year  population           gdp  \\\n",
       "116        11  Canada      CAN          1  1970  21434580.0  4.177520e+11   \n",
       "117        11  Canada      CAN          1  1971  21888686.0  4.410566e+11   \n",
       "118        11  Canada      CAN          1  1972  22222228.0  4.643421e+11   \n",
       "119        11  Canada      CAN          1  1973  22502026.0  4.976174e+11   \n",
       "120        11  Canada      CAN          1  1974  22812430.0  5.179518e+11   \n",
       "\n",
       "         co2  co2_per_capita  methane  nitrous_oxide  \\\n",
       "116  341.177          15.917      NaN            NaN   \n",
       "117  352.287          16.094      NaN            NaN   \n",
       "118  380.792          17.136      NaN            NaN   \n",
       "119  381.273          16.944      NaN            NaN   \n",
       "120  389.617          17.079      NaN            NaN   \n",
       "\n",
       "     temperature_change_from_ch4  temperature_change_from_co2  \\\n",
       "116                        0.003                        0.012   \n",
       "117                        0.003                        0.012   \n",
       "118                        0.003                        0.013   \n",
       "119                        0.003                        0.013   \n",
       "120                        0.003                        0.013   \n",
       "\n",
       "     temperature_change_from_ghg  temperature_change_from_n2o  temperature  \n",
       "116                        0.015                        0.001        -0.23  \n",
       "117                        0.016                        0.001        -0.05  \n",
       "118                        0.016                        0.001        -1.55  \n",
       "119                        0.016                        0.001         0.50  \n",
       "120                        0.017                        0.001        -0.65  "
      ]
     },
     "execution_count": 73,
     "metadata": {},
     "output_type": "execute_result"
    }
   ],
   "source": [
    "# Merge avec notre fichier et nettoyage pour ne garder que des données sur lesquelles on pourrait travailler (>=1970 et on retire déjà les \"cumulative\")\n",
    "df_ML = df_codes.merge(df,  how='inner',  on=['iso_code'])  # du fait du \"inner\", on perd les données des continents et du monde\n",
    "df_ML.drop(columns=['country','cumulative_gas_co2', 'cumulative_oil_co2','cumulative_flaring_co2','cumulative_coal_co2','cumulative_other_co2'], inplace=True)\n",
    "df_ML = df_ML.loc[df_ML.year>=1970]\n",
    "df_ML.zone_geo =df_ML.zone_geo.astype(int)\n",
    "df_ML.continent =df_ML.continent.astype(int)\n",
    "df_ML.head()\n",
    "\n"
   ]
  },
  {
   "cell_type": "code",
   "execution_count": 74,
   "metadata": {
    "colab": {
     "base_uri": "https://localhost:8080/"
    },
    "executionInfo": {
     "elapsed": 6,
     "status": "ok",
     "timestamp": 1709216681244,
     "user": {
      "displayName": "Claire Moreau",
      "userId": "00063999837599178902"
     },
     "user_tz": -60
    },
    "id": "ONCmpjXvYVsg",
    "outputId": "66ffda7e-4925-4e99-de83-4ce3aae7fa99"
   },
   "outputs": [
    {
     "name": "stdout",
     "output_type": "stream",
     "text": [
      "['Canada' 'États-Unis' 'Belize' 'Costa Rica' 'El Salvador' 'Guatemala'\n",
      " 'Honduras' 'Mexique' 'Nicaragua' 'Panama' 'Antigua-et-Barbuda' 'Bahamas'\n",
      " 'Barbade' 'Cuba' 'Dominique' 'Dominicaine, République' 'Grenade' 'Haïti'\n",
      " 'Jamaïque' 'Saint-Kitts-et-Nevis' 'Sainte-Lucie'\n",
      " 'Saint-Vincent-et-les Grenadines' 'Trinité-et-Tobago' 'Argentine'\n",
      " 'Bolivie' 'Brésil' 'Chili' 'Colombie' 'Équateur' 'Guyana' 'Paraguay'\n",
      " 'Pérou' 'Suriname' 'Uruguay' 'Venezuela' 'Autriche' 'Belgique' 'France'\n",
      " 'Allemagne' 'Liechtenstein' 'Luxembourg' 'Monaco' 'Pays-Bas' 'Suisse'\n",
      " 'Bulgarie' 'Bélarus' 'Tchéquie' 'Estonie' 'Hongrie' 'Lettonie' 'Lituanie'\n",
      " 'Moldova' 'Pologne' 'Roumanie' 'Russie, Fédération de' 'Slovaquie'\n",
      " 'Ukraine' 'Danemark' 'Finlande' 'Islande' 'Irlande' 'Norvège' 'Suède'\n",
      " 'Royaume-Uni' 'Albanie' 'Andorre' 'Bosnie-Herzégovine' 'Croatie' 'Grèce'\n",
      " 'Saint-Siège (État de la Cité du Vatican)' 'Italie' 'Malte' 'Monténégro'\n",
      " 'Portugal' 'Saint-Marin' 'Serbie' 'Slovénie' 'Espagne'\n",
      " 'Macédoine, République de' 'Cabo Verde' 'Bénin' 'Gambie' 'Ghana' 'Guinée'\n",
      " \"Côte d'Ivoire\" 'Libéria' 'Mali' 'Mauritanie' 'Niger' 'Nigéria'\n",
      " 'Guinée-Bissau' 'Sénégal' 'Sierra Leone' 'Togo' 'Burkina Faso' 'Burundi'\n",
      " 'Comores' 'Éthiopie' 'Érythrée' 'Djibouti' 'Kenya' 'Madagascar' 'Malawi'\n",
      " 'Maurice' 'Mozambique' 'Rwanda' 'Seychelles' 'Somalie' 'Zimbabwe'\n",
      " 'Soudan du Sud' 'Ouganda' 'Tanzanie' 'Zambie' 'Algérie' 'Libye' 'Maroc'\n",
      " 'Soudan' 'Tunisie' 'Égypte' 'Angola' 'Cameroun'\n",
      " 'Centrafricaine, République' 'Tchad' 'Congo, République du'\n",
      " 'Congo, République démocratique du' 'Guinée équatoriale' 'Gabon'\n",
      " 'Sao Tomé-et-Principe' 'Botswana' 'Lesotho' 'Namibie'\n",
      " \"Afrique du Sud, République d'\" 'Eswatini' 'Afghanistan' 'Azerbaïdjan'\n",
      " 'Bahreïn' 'Arménie' 'Chypre' 'Géorgie' 'Iran' 'Iraq' 'Israël'\n",
      " 'Kazakhstan' 'Jordanie' 'Koweït' 'Kirghizistan' 'Liban' 'Oman' 'Qatar'\n",
      " 'Arabie saoudite' 'Syrie' 'Tadjikistan' 'Émirats arabes unis' 'Turquie'\n",
      " 'Turkménistan' 'Ouzbékistan' 'Yémen' 'Chine' 'Taïwan' 'Japon'\n",
      " 'Corée du Nord' 'Corée du Sud' 'Mongolie' 'Brunéi Darussalam'\n",
      " 'Birmanie (Myanmar)' 'Cambodge' 'Indonésie' 'Laos' 'Malaisie'\n",
      " 'Philippines' 'Timor-Leste' 'Singapour' 'Viet Nam' 'Thaïlande'\n",
      " 'Bangladesh' 'Bhoutan' 'Sri Lanka' 'Inde' 'Maldives' 'Népal' 'Pakistan'\n",
      " 'Australie' 'Salomon, Îles' 'Fidji' 'Kiribati' 'Nauru' 'Vanuatu'\n",
      " 'Nouvelle-Zélande' 'Micronésie, États fédérés de' 'Marshall, Îles'\n",
      " 'Palaos' 'Papouasie-Nouvelle-Guinée' 'Tonga' 'Tuvalu' 'Samoa'\n",
      " 'Antarctique']\n"
     ]
    },
    {
     "data": {
      "text/plain": [
       "(9339, 16)"
      ]
     },
     "execution_count": 74,
     "metadata": {},
     "output_type": "execute_result"
    }
   ],
   "source": [
    "print(df_ML['pays'].unique())\n",
    "df_ML.shape"
   ]
  },
  {
   "cell_type": "code",
   "execution_count": 75,
   "metadata": {},
   "outputs": [],
   "source": [
    "# Export de notre dataframe vers merged_owid_temp_zones.csv pour utilisation en Machine Learning\n",
    "from pathlib import Path\n",
    "filepath = Path('./merged_owid_temp_zones.csv')\n",
    "filepath.parent.mkdir(parents=True, exist_ok=True)\n",
    "df_ML.to_csv(filepath)"
   ]
  }
 ],
 "metadata": {
  "colab": {
   "provenance": []
  },
  "kernelspec": {
   "display_name": "Python 3 (ipykernel)",
   "language": "python",
   "name": "python3"
  },
  "language_info": {
   "codemirror_mode": {
    "name": "ipython",
    "version": 3
   },
   "file_extension": ".py",
   "mimetype": "text/x-python",
   "name": "python",
   "nbconvert_exporter": "python",
   "pygments_lexer": "ipython3",
   "version": "3.11.5"
  }
 },
 "nbformat": 4,
 "nbformat_minor": 1
}
